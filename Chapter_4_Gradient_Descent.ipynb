{
 "cells": [
  {
   "cell_type": "code",
   "execution_count": null,
   "metadata": {
    "collapsed": false
   },
   "outputs": [],
   "source": [
    "weight = 0.5\n",
    "goal_pred = 0.8\n",
    "input = 2\n",
    "alpha = 0.1\n",
    "\n",
    "for iteration in range(20):\n",
    "    pred = input * weight\n",
    "    error = (pred - goal_pred) ** 2\n",
    "    derivative = input * (pred - goal_pred)\n",
    "    weight = weight - (alpha * derivative)\n",
    "    \n",
    "    print(\"Error: \" + str(error) + \" Prediction: \" + str(pred))"
   ]
  },
  {
   "cell_type": "code",
   "execution_count": null,
   "metadata": {
    "collapsed": false
   },
   "outputs": [],
   "source": [
    "weight = 0.5\n",
    "goal_pred = 0.80\n",
    "input = 2\n",
    "alpha = 0.1\n",
    "\n",
    "for iteration in range(20):\n",
    "    pred = input * weight                    # calculate the new predicted value\n",
    "    error = (pred - goal_pred) ** 2          # calculate how far we are from the true value\n",
    "    derivative = input * (pred - goal_pred)  # calculate the derivative: relationship between error and how much we missed by\n",
    "    weight = weight - (alpha * derivative)   # update weight based on the derivative value\n",
    "    \n",
    "    print(\"Error: \" + str(error) + \" Prediction: \" + str(pred))"
   ]
  },
  {
   "cell_type": "code",
   "execution_count": null,
   "metadata": {
    "collapsed": false
   },
   "outputs": [],
   "source": [
    "input = 75\n",
    "goal_pred = 5\n",
    "weight = 0.5\n",
    "alpha = 0.01\n",
    "\n",
    "for iteration in range(100):\n",
    "    print(\"Iteration: \" + str(iteration))\n",
    "    print(\"Weight: \" + str(weight))\n",
    "    \n",
    "    pred = input * weight\n",
    "    print(\"Prediction: \" + str(pred))\n",
    "    \n",
    "    error = (pred - goal_pred) ** 2\n",
    "    print(\"Error: \" + str(error))\n",
    "    \n",
    "    derivative = weight * (pred - goal_pred)\n",
    "    print(\"Derivative: \" + str(derivative))\n",
    "    \n",
    "    weight = weight - (alpha * derivative)\n",
    "    print(\"\\n\")"
   ]
  },
  {
   "cell_type": "code",
   "execution_count": null,
   "metadata": {
    "collapsed": false
   },
   "outputs": [],
   "source": [
    "input = 75\n",
    "goal_pred = 5\n",
    "weight = 0.5\n",
    "alpha = 0.01\n",
    "\n",
    "for iteration in range(100):\n",
    "    print(\"Iteration: \" + str(iteration))\n",
    "    print(\"Weight: \" + str(weight))\n",
    "    \n",
    "    pred = input * weight\n",
    "    print(\"Prediction: \" + str(pred))\n",
    "    \n",
    "    error = (pred - goal_pred) ** 2\n",
    "    print(\"Error: \" + str(error))\n",
    "    \n",
    "    derivative = weight * (pred - goal_pred)\n",
    "    print(\"Derivative: \" + str(derivative))\n",
    "    \n",
    "    weight = weight - (alpha * derivative)\n",
    "    print(\"\\n\")"
   ]
  }
 ],
 "metadata": {
  "anaconda-cloud": {},
  "kernelspec": {
   "display_name": "Python [conda root]",
   "language": "python",
   "name": "conda-root-py"
  },
  "language_info": {
   "codemirror_mode": {
    "name": "ipython",
    "version": 3
   },
   "file_extension": ".py",
   "mimetype": "text/x-python",
   "name": "python",
   "nbconvert_exporter": "python",
   "pygments_lexer": "ipython3",
   "version": "3.5.2"
  }
 },
 "nbformat": 4,
 "nbformat_minor": 1
}
